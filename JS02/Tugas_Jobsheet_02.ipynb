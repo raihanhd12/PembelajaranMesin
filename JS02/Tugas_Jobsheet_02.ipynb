{
 "cells": [
  {
   "cell_type": "code",
   "execution_count": 18,
   "metadata": {},
   "outputs": [
    {
     "name": "stdout",
     "output_type": "stream",
     "text": [
      "   onehotencoder__x0_California  onehotencoder__x0_Florida  \\\n",
      "0                           0.0                        0.0   \n",
      "1                           1.0                        0.0   \n",
      "2                           0.0                        1.0   \n",
      "3                           0.0                        0.0   \n",
      "4                           0.0                        1.0   \n",
      "\n",
      "   onehotencoder__x0_New York  R&D Spend  Administration  Marketing Spend  \\\n",
      "0                         1.0  165349.20       136897.80        471784.10   \n",
      "1                         0.0  162597.70       151377.59        443898.53   \n",
      "2                         0.0  153441.51       101145.55        407934.54   \n",
      "3                         1.0  144372.41       118671.85        383199.62   \n",
      "4                         0.0  142107.34        91391.77        366168.42   \n",
      "\n",
      "      Profit  \n",
      "0  192261.83  \n",
      "1  191792.06  \n",
      "2  191050.39  \n",
      "3  182901.99  \n",
      "4  166187.94  \n"
     ]
    }
   ],
   "source": [
    "# Data startup \n",
    "from sklearn.preprocessing import OneHotEncoder\n",
    "from sklearn.compose import make_column_transformer\n",
    "import numpy as np\n",
    "import pandas as pd\n",
    "\n",
    "df = pd.read_csv('50_Startups.csv')\n",
    "# df = df[['State']]\n",
    "# df = df.dropna()\n",
    "\n",
    "transformer = make_column_transformer(\n",
    "    (OneHotEncoder(), ['State']),\n",
    "    remainder='passthrough')\n",
    "\n",
    "transformed = transformer.fit_transform(df)\n",
    "transformed_df = pd.DataFrame(transformed, columns=transformer.get_feature_names())\n",
    "print(transformed_df.head())\n",
    "\n",
    "# df2.head()\n",
    "# df2_drop = df2.copy()\n",
    "# df2_drop = df2_drop.drop('State', axis = 1)\n",
    "# ohe = OneHotEncoder()\n",
    "\n",
    "# df.head()"
   ]
  },
  {
   "cell_type": "code",
   "execution_count": 19,
   "metadata": {},
   "outputs": [],
   "source": [
    "x = transformed_df.iloc[:, :-1].values\n",
    "y = transformed_df.iloc[:, -1].values"
   ]
  },
  {
   "cell_type": "code",
   "execution_count": 20,
   "metadata": {},
   "outputs": [
    {
     "data": {
      "text/plain": [
       "(50, 1)"
      ]
     },
     "execution_count": 20,
     "metadata": {},
     "output_type": "execute_result"
    }
   ],
   "source": [
    "y = y.reshape(len(y), 1)\n",
    "y.shape"
   ]
  },
  {
   "cell_type": "code",
   "execution_count": 21,
   "metadata": {},
   "outputs": [],
   "source": [
    "from sklearn.model_selection import train_test_split\n",
    "xm_train, xm_test, ym_train, ym_test = train_test_split(x,y, test_size= 0.2, random_state=50)"
   ]
  },
  {
   "cell_type": "code",
   "execution_count": 22,
   "metadata": {},
   "outputs": [],
   "source": [
    "from sklearn.linear_model import LinearRegression\n",
    "mlr2 = LinearRegression()\n",
    "mlr2.fit(xm_train, ym_train)\n",
    "\n",
    "ym_pred = mlr2.predict(xm_test)"
   ]
  },
  {
   "cell_type": "code",
   "execution_count": 23,
   "metadata": {},
   "outputs": [
    {
     "data": {
      "text/plain": [
       "array([[ 96712.8       ,  84457.16115252],\n",
       "       [ 90708.19      ,  72543.44544734],\n",
       "       [191792.06      , 186070.97934498],\n",
       "       [ 81229.06      ,  67431.79651296],\n",
       "       [152211.77      , 150237.4771915 ],\n",
       "       [126992.93      , 113635.43439889],\n",
       "       [ 96479.51      ,  88703.00224459],\n",
       "       [134307.35      , 124781.17620402],\n",
       "       [101004.64      , 101217.77951759],\n",
       "       [108552.04      , 113863.68825244]])"
      ]
     },
     "execution_count": 23,
     "metadata": {},
     "output_type": "execute_result"
    }
   ],
   "source": [
    "gabung = np.concatenate((ym_test, ym_pred), axis = 1)\n",
    "gabung"
   ]
  },
  {
   "cell_type": "code",
   "execution_count": 24,
   "metadata": {},
   "outputs": [
    {
     "name": "stdout",
     "output_type": "stream",
     "text": [
      "Hasil dari MAE : 8809.79852732346\n",
      "Hasil dari MSE : 106505548.831564\n",
      "Hasil dari RMSE : 10320.152558541176\n",
      "Hasil dari R2 : 0.897134285307714\n"
     ]
    }
   ],
   "source": [
    "from sklearn.metrics import mean_absolute_error, mean_squared_error, r2_score\n",
    "\n",
    "mae_value = mean_absolute_error(ym_test, ym_pred)\n",
    "mse_value = mean_squared_error(ym_test, ym_pred)\n",
    "rmse_value = mean_squared_error(ym_test, ym_pred, squared = False)\n",
    "r2_value = r2_score(ym_test, ym_pred)\n",
    "print(f'Hasil dari MAE : {mae_value}')\n",
    "print(f'Hasil dari MSE : {mse_value}')\n",
    "print(f'Hasil dari RMSE : {rmse_value}')\n",
    "print(f'Hasil dari R2 : {r2_value}')"
   ]
  }
 ],
 "metadata": {
  "kernelspec": {
   "display_name": "Python 3.8.8 ('base')",
   "language": "python",
   "name": "python3"
  },
  "language_info": {
   "codemirror_mode": {
    "name": "ipython",
    "version": 3
   },
   "file_extension": ".py",
   "mimetype": "text/x-python",
   "name": "python",
   "nbconvert_exporter": "python",
   "pygments_lexer": "ipython3",
   "version": "3.8.8"
  },
  "orig_nbformat": 4,
  "vscode": {
   "interpreter": {
    "hash": "c486722cb089da2a9d16a30b66cddd93aee8f7b05b83f2db7e9bc87c21ba6eae"
   }
  }
 },
 "nbformat": 4,
 "nbformat_minor": 2
}
